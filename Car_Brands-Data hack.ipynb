{
  "nbformat": 4,
  "nbformat_minor": 0,
  "metadata": {
    "colab": {
      "name": "Naveen-G-Car-Brands.ipynb",
      "provenance": []
    },
    "kernelspec": {
      "name": "python3",
      "display_name": "Python 3"
    }
  },
  "cells": [
    {
      "cell_type": "markdown",
      "metadata": {
        "id": "J4Qw-VTsugsJ"
      },
      "source": [
        "# Importing Libraries and loading the dataset"
      ]
    },
    {
      "cell_type": "code",
      "metadata": {
        "id": "dJtIq0HXvpO7"
      },
      "source": [
        "import numpy as np \r\n",
        "import pandas as pd \r\n",
        "import matplotlib.pyplot as plt\r\n",
        "from sklearn.metrics import accuracy_score\r\n",
        "from sklearn.linear_model import LinearRegression\r\n",
        "from sklearn.model_selection import train_test_split\r\n",
        "%matplotlib inline"
      ],
      "execution_count": 1,
      "outputs": []
    },
    {
      "cell_type": "code",
      "metadata": {
        "id": "UeBUmfQX3fF5"
      },
      "source": [
        "cars = pd.read_csv(\"wholedata.csv\")"
      ],
      "execution_count": 2,
      "outputs": []
    },
    {
      "cell_type": "markdown",
      "metadata": {
        "id": "HZGNuaNu4EZk"
      },
      "source": [
        "#Set 4 – Car Brands\r\n",
        "\r\n",
        "**Question 1**\r\n",
        "\r\n",
        "Rename all the column names that have spaces into some other names (using underscores). Use this renamed dataframe for your analysis and training."
      ]
    },
    {
      "cell_type": "code",
      "metadata": {
        "colab": {
          "base_uri": "https://localhost:8080/",
          "height": 326
        },
        "id": "6tRsp3_X4MJp",
        "outputId": "19325f4e-f955-4ebb-b942-d84fb1c3ce97"
      },
      "source": [
        "cars.columns = cars.columns.str.replace(' ','_')\r\n",
        "cars.head()"
      ],
      "execution_count": 3,
      "outputs": [
        {
          "output_type": "execute_result",
          "data": {
            "text/html": [
              "<div>\n",
              "<style scoped>\n",
              "    .dataframe tbody tr th:only-of-type {\n",
              "        vertical-align: middle;\n",
              "    }\n",
              "\n",
              "    .dataframe tbody tr th {\n",
              "        vertical-align: top;\n",
              "    }\n",
              "\n",
              "    .dataframe thead th {\n",
              "        text-align: right;\n",
              "    }\n",
              "</style>\n",
              "<table border=\"1\" class=\"dataframe\">\n",
              "  <thead>\n",
              "    <tr style=\"text-align: right;\">\n",
              "      <th></th>\n",
              "      <th>Brand</th>\n",
              "      <th>Model</th>\n",
              "      <th>Year</th>\n",
              "      <th>Engine_Fuel_Type</th>\n",
              "      <th>Engine_HP</th>\n",
              "      <th>Engine_Cylinders</th>\n",
              "      <th>Transmission_Type</th>\n",
              "      <th>Driven_Wheels</th>\n",
              "      <th>Number_of_Doors</th>\n",
              "      <th>Market_Category</th>\n",
              "      <th>Vehicle_Size</th>\n",
              "      <th>Vehicle_Style</th>\n",
              "      <th>highway_MPG</th>\n",
              "      <th>city_mpg</th>\n",
              "      <th>Popularity</th>\n",
              "      <th>Price</th>\n",
              "    </tr>\n",
              "  </thead>\n",
              "  <tbody>\n",
              "    <tr>\n",
              "      <th>0</th>\n",
              "      <td>BMW</td>\n",
              "      <td>1 Series M</td>\n",
              "      <td>2011</td>\n",
              "      <td>premium unleaded (required)</td>\n",
              "      <td>335.0</td>\n",
              "      <td>6.0</td>\n",
              "      <td>MANUAL</td>\n",
              "      <td>rear wheel drive</td>\n",
              "      <td>2.0</td>\n",
              "      <td>Factory Tuner,Luxury,High-Performance</td>\n",
              "      <td>Compact</td>\n",
              "      <td>Coupe</td>\n",
              "      <td>26</td>\n",
              "      <td>19</td>\n",
              "      <td>3916</td>\n",
              "      <td>46135</td>\n",
              "    </tr>\n",
              "    <tr>\n",
              "      <th>1</th>\n",
              "      <td>BMW</td>\n",
              "      <td>1 Series</td>\n",
              "      <td>2011</td>\n",
              "      <td>premium unleaded (required)</td>\n",
              "      <td>300.0</td>\n",
              "      <td>6.0</td>\n",
              "      <td>MANUAL</td>\n",
              "      <td>rear wheel drive</td>\n",
              "      <td>2.0</td>\n",
              "      <td>Luxury,Performance</td>\n",
              "      <td>Compact</td>\n",
              "      <td>Convertible</td>\n",
              "      <td>28</td>\n",
              "      <td>19</td>\n",
              "      <td>3916</td>\n",
              "      <td>40650</td>\n",
              "    </tr>\n",
              "    <tr>\n",
              "      <th>2</th>\n",
              "      <td>BMW</td>\n",
              "      <td>1 Series</td>\n",
              "      <td>2011</td>\n",
              "      <td>premium unleaded (required)</td>\n",
              "      <td>300.0</td>\n",
              "      <td>6.0</td>\n",
              "      <td>MANUAL</td>\n",
              "      <td>rear wheel drive</td>\n",
              "      <td>2.0</td>\n",
              "      <td>Luxury,High-Performance</td>\n",
              "      <td>Compact</td>\n",
              "      <td>Coupe</td>\n",
              "      <td>28</td>\n",
              "      <td>20</td>\n",
              "      <td>3916</td>\n",
              "      <td>36350</td>\n",
              "    </tr>\n",
              "    <tr>\n",
              "      <th>3</th>\n",
              "      <td>BMW</td>\n",
              "      <td>1 Series</td>\n",
              "      <td>2011</td>\n",
              "      <td>premium unleaded (required)</td>\n",
              "      <td>230.0</td>\n",
              "      <td>6.0</td>\n",
              "      <td>MANUAL</td>\n",
              "      <td>rear wheel drive</td>\n",
              "      <td>2.0</td>\n",
              "      <td>Luxury,Performance</td>\n",
              "      <td>Compact</td>\n",
              "      <td>Coupe</td>\n",
              "      <td>28</td>\n",
              "      <td>18</td>\n",
              "      <td>3916</td>\n",
              "      <td>29450</td>\n",
              "    </tr>\n",
              "    <tr>\n",
              "      <th>4</th>\n",
              "      <td>BMW</td>\n",
              "      <td>1 Series</td>\n",
              "      <td>2011</td>\n",
              "      <td>premium unleaded (required)</td>\n",
              "      <td>230.0</td>\n",
              "      <td>6.0</td>\n",
              "      <td>MANUAL</td>\n",
              "      <td>rear wheel drive</td>\n",
              "      <td>2.0</td>\n",
              "      <td>Luxury</td>\n",
              "      <td>Compact</td>\n",
              "      <td>Convertible</td>\n",
              "      <td>28</td>\n",
              "      <td>18</td>\n",
              "      <td>3916</td>\n",
              "      <td>34500</td>\n",
              "    </tr>\n",
              "  </tbody>\n",
              "</table>\n",
              "</div>"
            ],
            "text/plain": [
              "  Brand       Model  Year  ... city_mpg  Popularity  Price\n",
              "0   BMW  1 Series M  2011  ...       19        3916  46135\n",
              "1   BMW    1 Series  2011  ...       19        3916  40650\n",
              "2   BMW    1 Series  2011  ...       20        3916  36350\n",
              "3   BMW    1 Series  2011  ...       18        3916  29450\n",
              "4   BMW    1 Series  2011  ...       18        3916  34500\n",
              "\n",
              "[5 rows x 16 columns]"
            ]
          },
          "metadata": {
            "tags": []
          },
          "execution_count": 3
        }
      ]
    },
    {
      "cell_type": "markdown",
      "metadata": {
        "id": "cZ73lXL65Nl3"
      },
      "source": [
        "**Question 2**\r\n",
        "\r\n",
        "Remove the rows with null values and duplicate rows. Print the shape of the resultant dataframe"
      ]
    },
    {
      "cell_type": "code",
      "metadata": {
        "colab": {
          "base_uri": "https://localhost:8080/"
        },
        "id": "GGA7n-AF5NVE",
        "outputId": "cba55af7-66ff-4d38-ffef-5e491af5a27b"
      },
      "source": [
        "#Original Shape\r\n",
        "cars.shape "
      ],
      "execution_count": 4,
      "outputs": [
        {
          "output_type": "execute_result",
          "data": {
            "text/plain": [
              "(11914, 16)"
            ]
          },
          "metadata": {
            "tags": []
          },
          "execution_count": 4
        }
      ]
    },
    {
      "cell_type": "code",
      "metadata": {
        "id": "tvX2I7bD5fcc"
      },
      "source": [
        "# removing rows with Null values\r\n",
        "cars = cars.dropna()"
      ],
      "execution_count": 5,
      "outputs": []
    },
    {
      "cell_type": "code",
      "metadata": {
        "id": "8nGBrwmE5mDE"
      },
      "source": [
        "# removing rows with duplicate values\r\n",
        "cars = cars.drop_duplicates()"
      ],
      "execution_count": 6,
      "outputs": []
    },
    {
      "cell_type": "code",
      "metadata": {
        "colab": {
          "base_uri": "https://localhost:8080/"
        },
        "id": "FXDMmd4Q6DvC",
        "outputId": "3caa044f-f6af-4eaa-a3d9-3100ca5812ac"
      },
      "source": [
        "cars.shape"
      ],
      "execution_count": 7,
      "outputs": [
        {
          "output_type": "execute_result",
          "data": {
            "text/plain": [
              "(7735, 16)"
            ]
          },
          "metadata": {
            "tags": []
          },
          "execution_count": 7
        }
      ]
    },
    {
      "cell_type": "markdown",
      "metadata": {
        "id": "_D2e3Qoq6QvJ"
      },
      "source": [
        "**Question 3** \r\n",
        "\r\n",
        "Add two new columns 'HIGHWAY miles per litre' and 'city miles per litre' from the given columns 'highway MPG' and 'city mpg' and drop those two old columns of mpg\r\n"
      ]
    },
    {
      "cell_type": "code",
      "metadata": {
        "colab": {
          "base_uri": "https://localhost:8080/",
          "height": 326
        },
        "id": "wYQvMwc-6PN5",
        "outputId": "314b7cef-92a6-4f9c-c7cf-49d9b38c8e99"
      },
      "source": [
        "cars[\"HIGHWAY_miles_per_litre\"] = cars['highway_MPG']\r\n",
        "cars['city_miles_per_litre'] = cars['city_mpg']\r\n",
        "cars = cars.drop(columns=['highway_MPG','city_mpg'])\r\n",
        "cars.head()"
      ],
      "execution_count": 8,
      "outputs": [
        {
          "output_type": "execute_result",
          "data": {
            "text/html": [
              "<div>\n",
              "<style scoped>\n",
              "    .dataframe tbody tr th:only-of-type {\n",
              "        vertical-align: middle;\n",
              "    }\n",
              "\n",
              "    .dataframe tbody tr th {\n",
              "        vertical-align: top;\n",
              "    }\n",
              "\n",
              "    .dataframe thead th {\n",
              "        text-align: right;\n",
              "    }\n",
              "</style>\n",
              "<table border=\"1\" class=\"dataframe\">\n",
              "  <thead>\n",
              "    <tr style=\"text-align: right;\">\n",
              "      <th></th>\n",
              "      <th>Brand</th>\n",
              "      <th>Model</th>\n",
              "      <th>Year</th>\n",
              "      <th>Engine_Fuel_Type</th>\n",
              "      <th>Engine_HP</th>\n",
              "      <th>Engine_Cylinders</th>\n",
              "      <th>Transmission_Type</th>\n",
              "      <th>Driven_Wheels</th>\n",
              "      <th>Number_of_Doors</th>\n",
              "      <th>Market_Category</th>\n",
              "      <th>Vehicle_Size</th>\n",
              "      <th>Vehicle_Style</th>\n",
              "      <th>Popularity</th>\n",
              "      <th>Price</th>\n",
              "      <th>HIGHWAY_miles_per_litre</th>\n",
              "      <th>city_miles_per_litre</th>\n",
              "    </tr>\n",
              "  </thead>\n",
              "  <tbody>\n",
              "    <tr>\n",
              "      <th>0</th>\n",
              "      <td>BMW</td>\n",
              "      <td>1 Series M</td>\n",
              "      <td>2011</td>\n",
              "      <td>premium unleaded (required)</td>\n",
              "      <td>335.0</td>\n",
              "      <td>6.0</td>\n",
              "      <td>MANUAL</td>\n",
              "      <td>rear wheel drive</td>\n",
              "      <td>2.0</td>\n",
              "      <td>Factory Tuner,Luxury,High-Performance</td>\n",
              "      <td>Compact</td>\n",
              "      <td>Coupe</td>\n",
              "      <td>3916</td>\n",
              "      <td>46135</td>\n",
              "      <td>26</td>\n",
              "      <td>19</td>\n",
              "    </tr>\n",
              "    <tr>\n",
              "      <th>1</th>\n",
              "      <td>BMW</td>\n",
              "      <td>1 Series</td>\n",
              "      <td>2011</td>\n",
              "      <td>premium unleaded (required)</td>\n",
              "      <td>300.0</td>\n",
              "      <td>6.0</td>\n",
              "      <td>MANUAL</td>\n",
              "      <td>rear wheel drive</td>\n",
              "      <td>2.0</td>\n",
              "      <td>Luxury,Performance</td>\n",
              "      <td>Compact</td>\n",
              "      <td>Convertible</td>\n",
              "      <td>3916</td>\n",
              "      <td>40650</td>\n",
              "      <td>28</td>\n",
              "      <td>19</td>\n",
              "    </tr>\n",
              "    <tr>\n",
              "      <th>2</th>\n",
              "      <td>BMW</td>\n",
              "      <td>1 Series</td>\n",
              "      <td>2011</td>\n",
              "      <td>premium unleaded (required)</td>\n",
              "      <td>300.0</td>\n",
              "      <td>6.0</td>\n",
              "      <td>MANUAL</td>\n",
              "      <td>rear wheel drive</td>\n",
              "      <td>2.0</td>\n",
              "      <td>Luxury,High-Performance</td>\n",
              "      <td>Compact</td>\n",
              "      <td>Coupe</td>\n",
              "      <td>3916</td>\n",
              "      <td>36350</td>\n",
              "      <td>28</td>\n",
              "      <td>20</td>\n",
              "    </tr>\n",
              "    <tr>\n",
              "      <th>3</th>\n",
              "      <td>BMW</td>\n",
              "      <td>1 Series</td>\n",
              "      <td>2011</td>\n",
              "      <td>premium unleaded (required)</td>\n",
              "      <td>230.0</td>\n",
              "      <td>6.0</td>\n",
              "      <td>MANUAL</td>\n",
              "      <td>rear wheel drive</td>\n",
              "      <td>2.0</td>\n",
              "      <td>Luxury,Performance</td>\n",
              "      <td>Compact</td>\n",
              "      <td>Coupe</td>\n",
              "      <td>3916</td>\n",
              "      <td>29450</td>\n",
              "      <td>28</td>\n",
              "      <td>18</td>\n",
              "    </tr>\n",
              "    <tr>\n",
              "      <th>4</th>\n",
              "      <td>BMW</td>\n",
              "      <td>1 Series</td>\n",
              "      <td>2011</td>\n",
              "      <td>premium unleaded (required)</td>\n",
              "      <td>230.0</td>\n",
              "      <td>6.0</td>\n",
              "      <td>MANUAL</td>\n",
              "      <td>rear wheel drive</td>\n",
              "      <td>2.0</td>\n",
              "      <td>Luxury</td>\n",
              "      <td>Compact</td>\n",
              "      <td>Convertible</td>\n",
              "      <td>3916</td>\n",
              "      <td>34500</td>\n",
              "      <td>28</td>\n",
              "      <td>18</td>\n",
              "    </tr>\n",
              "  </tbody>\n",
              "</table>\n",
              "</div>"
            ],
            "text/plain": [
              "  Brand       Model  Year  ...  Price  HIGHWAY_miles_per_litre  city_miles_per_litre\n",
              "0   BMW  1 Series M  2011  ...  46135                       26                    19\n",
              "1   BMW    1 Series  2011  ...  40650                       28                    19\n",
              "2   BMW    1 Series  2011  ...  36350                       28                    20\n",
              "3   BMW    1 Series  2011  ...  29450                       28                    18\n",
              "4   BMW    1 Series  2011  ...  34500                       28                    18\n",
              "\n",
              "[5 rows x 16 columns]"
            ]
          },
          "metadata": {
            "tags": []
          },
          "execution_count": 8
        }
      ]
    },
    {
      "cell_type": "markdown",
      "metadata": {
        "id": "-Av7nRviHV7-"
      },
      "source": [
        "**Question 4**\r\n",
        "\r\n",
        "Show the outliers in the target ('Price') using any plot or graph."
      ]
    },
    {
      "cell_type": "code",
      "metadata": {
        "colab": {
          "base_uri": "https://localhost:8080/",
          "height": 439
        },
        "id": "3cSmJsMeHcfK",
        "outputId": "2edbbc11-5000-4cc5-db56-620af67dafb0"
      },
      "source": [
        "fig = plt.figure(figsize =(10, 7))\r\n",
        "data = [cars['Price']]\r\n",
        "plt.boxplot(data)\r\n",
        "plt.show()"
      ],
      "execution_count": 9,
      "outputs": [
        {
          "output_type": "display_data",
          "data": {
            "image/png": "[encoded data removed]",
            "text/plain": [
              "<Figure size 720x504 with 1 Axes>"
            ]
          },
          "metadata": {
            "tags": [],
            "needs_background": "light"
          }
        }
      ]
    },
    {
      "cell_type": "code",
      "metadata": {
        "colab": {
          "base_uri": "https://localhost:8080/"
        },
        "id": "WAluz45XLtHK",
        "outputId": "99b42683-e0e6-4cd2-b6f6-29afa7202426"
      },
      "source": [
        "print(cars['Price'].skew())\r\n",
        "cars['Price'].describe()"
      ],
      "execution_count": 10,
      "outputs": [
        {
          "output_type": "stream",
          "text": [
            "10.332073952922125\n"
          ],
          "name": "stdout"
        },
        {
          "output_type": "execute_result",
          "data": {
            "text/plain": [
              "count    7.735000e+03\n",
              "mean     5.102826e+04\n",
              "std      7.153777e+04\n",
              "min      2.000000e+03\n",
              "25%      2.622500e+04\n",
              "50%      3.560000e+04\n",
              "75%      4.947750e+04\n",
              "max      2.065902e+06\n",
              "Name: Price, dtype: float64"
            ]
          },
          "metadata": {
            "tags": []
          },
          "execution_count": 10
        }
      ]
    },
    {
      "cell_type": "markdown",
      "metadata": {
        "id": "k2Dbm8A5Mprr"
      },
      "source": [
        "**Question 5**\r\n",
        "\r\n",
        "Remove the outliers(as much as possible) in all numeric fields.\r\n"
      ]
    },
    {
      "cell_type": "code",
      "metadata": {
        "id": "RsEs9cGwVMHr"
      },
      "source": [
        "#Removed outlier for Col Engine_Cylinders\r\n",
        "min_threshold , max_threshold = cars.Engine_Cylinders.quantile([0.01,0.99])\r\n",
        "index_engine = cars[(cars['Engine_Cylinders'] < max_threshold) & (cars['Engine_Cylinders'] < min_threshold)].index\r\n",
        "cars.drop(index_engine,inplace=True)"
      ],
      "execution_count": 11,
      "outputs": []
    },
    {
      "cell_type": "code",
      "metadata": {
        "id": "tw6OaniuQRuA"
      },
      "source": [
        "#Removed outlier for Col Price\r\n",
        "min_threshold , max_threshold = cars.Price.quantile([0.001,0.999])\r\n",
        "index_engine = cars[(cars['Price'] < max_threshold) & (cars['Price'] < min_threshold)].index\r\n",
        "cars.drop(index_engine,inplace=True)"
      ],
      "execution_count": 12,
      "outputs": []
    },
    {
      "cell_type": "code",
      "metadata": {
        "id": "dTsTYBJ7TMNO"
      },
      "source": [
        "#Removed outlier for Col Popularity\r\n",
        "min_threshold , max_threshold = cars.Popularity.quantile([0.01,0.99])\r\n",
        "index_engine = cars[(cars['Popularity'] < max_threshold) & (cars['Popularity'] < min_threshold)].index\r\n",
        "cars.drop(index_engine,inplace=True)"
      ],
      "execution_count": 13,
      "outputs": []
    },
    {
      "cell_type": "code",
      "metadata": {
        "colab": {
          "base_uri": "https://localhost:8080/"
        },
        "id": "NvHCe3deVbt9",
        "outputId": "1abdca23-c4b9-4c24-8d0a-7d3b4aed27be"
      },
      "source": [
        "cars.shape"
      ],
      "execution_count": 14,
      "outputs": [
        {
          "output_type": "execute_result",
          "data": {
            "text/plain": [
              "(7688, 16)"
            ]
          },
          "metadata": {
            "tags": []
          },
          "execution_count": 14
        }
      ]
    },
    {
      "cell_type": "markdown",
      "metadata": {
        "id": "Lj3h9d8kVfTI"
      },
      "source": [
        "**Question 6**\r\n",
        "\r\n",
        "Print the correlation matrix(for numeric columns alone).\r\n",
        " Print the column name(with numeric values) that is highly correlated to the target(response variable-'Price')"
      ]
    },
    {
      "cell_type": "code",
      "metadata": {
        "colab": {
          "base_uri": "https://localhost:8080/",
          "height": 297
        },
        "id": "iofnVc-IVm51",
        "outputId": "e3548dc6-cd23-4c34-e3ec-546c2b166ee1"
      },
      "source": [
        "corr_matrix = cars.corr().abs()\r\n",
        "corr_matrix"
      ],
      "execution_count": 15,
      "outputs": [
        {
          "output_type": "execute_result",
          "data": {
            "text/html": [
              "<div>\n",
              "<style scoped>\n",
              "    .dataframe tbody tr th:only-of-type {\n",
              "        vertical-align: middle;\n",
              "    }\n",
              "\n",
              "    .dataframe tbody tr th {\n",
              "        vertical-align: top;\n",
              "    }\n",
              "\n",
              "    .dataframe thead th {\n",
              "        text-align: right;\n",
              "    }\n",
              "</style>\n",
              "<table border=\"1\" class=\"dataframe\">\n",
              "  <thead>\n",
              "    <tr style=\"text-align: right;\">\n",
              "      <th></th>\n",
              "      <th>Year</th>\n",
              "      <th>Engine_HP</th>\n",
              "      <th>Engine_Cylinders</th>\n",
              "      <th>Number_of_Doors</th>\n",
              "      <th>Popularity</th>\n",
              "      <th>Price</th>\n",
              "      <th>HIGHWAY_miles_per_litre</th>\n",
              "      <th>city_miles_per_litre</th>\n",
              "    </tr>\n",
              "  </thead>\n",
              "  <tbody>\n",
              "    <tr>\n",
              "      <th>Year</th>\n",
              "      <td>1.000000</td>\n",
              "      <td>0.232077</td>\n",
              "      <td>0.054230</td>\n",
              "      <td>0.186970</td>\n",
              "      <td>0.125418</td>\n",
              "      <td>0.124069</td>\n",
              "      <td>0.235443</td>\n",
              "      <td>0.216053</td>\n",
              "    </tr>\n",
              "    <tr>\n",
              "      <th>Engine_HP</th>\n",
              "      <td>0.232077</td>\n",
              "      <td>1.000000</td>\n",
              "      <td>0.811643</td>\n",
              "      <td>0.213463</td>\n",
              "      <td>0.033943</td>\n",
              "      <td>0.656061</td>\n",
              "      <td>0.489650</td>\n",
              "      <td>0.593351</td>\n",
              "    </tr>\n",
              "    <tr>\n",
              "      <th>Engine_Cylinders</th>\n",
              "      <td>0.054230</td>\n",
              "      <td>0.811643</td>\n",
              "      <td>1.000000</td>\n",
              "      <td>0.192088</td>\n",
              "      <td>0.009586</td>\n",
              "      <td>0.592884</td>\n",
              "      <td>0.601057</td>\n",
              "      <td>0.668664</td>\n",
              "    </tr>\n",
              "    <tr>\n",
              "      <th>Number_of_Doors</th>\n",
              "      <td>0.186970</td>\n",
              "      <td>0.213463</td>\n",
              "      <td>0.192088</td>\n",
              "      <td>1.000000</td>\n",
              "      <td>0.042519</td>\n",
              "      <td>0.192879</td>\n",
              "      <td>0.113381</td>\n",
              "      <td>0.167791</td>\n",
              "    </tr>\n",
              "    <tr>\n",
              "      <th>Popularity</th>\n",
              "      <td>0.125418</td>\n",
              "      <td>0.033943</td>\n",
              "      <td>0.009586</td>\n",
              "      <td>0.042519</td>\n",
              "      <td>1.000000</td>\n",
              "      <td>0.055515</td>\n",
              "      <td>0.032859</td>\n",
              "      <td>0.036719</td>\n",
              "    </tr>\n",
              "    <tr>\n",
              "      <th>Price</th>\n",
              "      <td>0.124069</td>\n",
              "      <td>0.656061</td>\n",
              "      <td>0.592884</td>\n",
              "      <td>0.192879</td>\n",
              "      <td>0.055515</td>\n",
              "      <td>1.000000</td>\n",
              "      <td>0.273827</td>\n",
              "      <td>0.319884</td>\n",
              "    </tr>\n",
              "    <tr>\n",
              "      <th>HIGHWAY_miles_per_litre</th>\n",
              "      <td>0.235443</td>\n",
              "      <td>0.489650</td>\n",
              "      <td>0.601057</td>\n",
              "      <td>0.113381</td>\n",
              "      <td>0.032859</td>\n",
              "      <td>0.273827</td>\n",
              "      <td>1.000000</td>\n",
              "      <td>0.780120</td>\n",
              "    </tr>\n",
              "    <tr>\n",
              "      <th>city_miles_per_litre</th>\n",
              "      <td>0.216053</td>\n",
              "      <td>0.593351</td>\n",
              "      <td>0.668664</td>\n",
              "      <td>0.167791</td>\n",
              "      <td>0.036719</td>\n",
              "      <td>0.319884</td>\n",
              "      <td>0.780120</td>\n",
              "      <td>1.000000</td>\n",
              "    </tr>\n",
              "  </tbody>\n",
              "</table>\n",
              "</div>"
            ],
            "text/plain": [
              "                             Year  ...  city_miles_per_litre\n",
              "Year                     1.000000  ...              0.216053\n",
              "Engine_HP                0.232077  ...              0.593351\n",
              "Engine_Cylinders         0.054230  ...              0.668664\n",
              "Number_of_Doors          0.186970  ...              0.167791\n",
              "Popularity               0.125418  ...              0.036719\n",
              "Price                    0.124069  ...              0.319884\n",
              "HIGHWAY_miles_per_litre  0.235443  ...              0.780120\n",
              "city_miles_per_litre     0.216053  ...              1.000000\n",
              "\n",
              "[8 rows x 8 columns]"
            ]
          },
          "metadata": {
            "tags": []
          },
          "execution_count": 15
        }
      ]
    },
    {
      "cell_type": "code",
      "metadata": {
        "colab": {
          "base_uri": "https://localhost:8080/"
        },
        "id": "fc_pLHeZd9Ak",
        "outputId": "00056ab0-0cc9-42b2-f16a-886463ebf69c"
      },
      "source": [
        "print(\"Engine_HP \" + \"is Highly Correlated to target Price with\",corr_matrix.iloc[2,5])"
      ],
      "execution_count": 16,
      "outputs": [
        {
          "output_type": "stream",
          "text": [
            "Engine_HP is Highly Correlated to target Price with 0.5928837780449191\n"
          ],
          "name": "stdout"
        }
      ]
    },
    {
      "cell_type": "markdown",
      "metadata": {
        "id": "0Ir8zUcmVujL"
      },
      "source": [
        "**Question 7**\r\n",
        "\r\n",
        "Print the crosstab of 'Transmission Type' and 'Vechile Size'"
      ]
    },
    {
      "cell_type": "code",
      "metadata": {
        "colab": {
          "base_uri": "https://localhost:8080/",
          "height": 452
        },
        "id": "GzLIm3QmVybP",
        "outputId": "f4af74ce-0157-4d73-a6a7-1051ebe360d8"
      },
      "source": [
        "cross_data = [cars['Transmission_Type'],cars['Vehicle_Size']]\r\n",
        "pd.crosstab(cross_data,columns=['Transmission Type','Vehicle_Size'])"
      ],
      "execution_count": 17,
      "outputs": [
        {
          "output_type": "execute_result",
          "data": {
            "text/html": [
              "<div>\n",
              "<style scoped>\n",
              "    .dataframe tbody tr th:only-of-type {\n",
              "        vertical-align: middle;\n",
              "    }\n",
              "\n",
              "    .dataframe tbody tr th {\n",
              "        vertical-align: top;\n",
              "    }\n",
              "\n",
              "    .dataframe thead tr th {\n",
              "        text-align: left;\n",
              "    }\n",
              "\n",
              "    .dataframe thead tr:last-of-type th {\n",
              "        text-align: right;\n",
              "    }\n",
              "</style>\n",
              "<table border=\"1\" class=\"dataframe\">\n",
              "  <thead>\n",
              "    <tr>\n",
              "      <th></th>\n",
              "      <th>col_0</th>\n",
              "      <th>Transmission Type</th>\n",
              "    </tr>\n",
              "    <tr>\n",
              "      <th></th>\n",
              "      <th>col_1</th>\n",
              "      <th>Vehicle_Size</th>\n",
              "    </tr>\n",
              "    <tr>\n",
              "      <th>Transmission_Type</th>\n",
              "      <th>Vehicle_Size</th>\n",
              "      <th></th>\n",
              "    </tr>\n",
              "  </thead>\n",
              "  <tbody>\n",
              "    <tr>\n",
              "      <th rowspan=\"3\" valign=\"top\">AUTOMATED_MANUAL</th>\n",
              "      <th>Compact</th>\n",
              "      <td>361</td>\n",
              "    </tr>\n",
              "    <tr>\n",
              "      <th>Large</th>\n",
              "      <td>37</td>\n",
              "    </tr>\n",
              "    <tr>\n",
              "      <th>Midsize</th>\n",
              "      <td>140</td>\n",
              "    </tr>\n",
              "    <tr>\n",
              "      <th rowspan=\"3\" valign=\"top\">AUTOMATIC</th>\n",
              "      <th>Compact</th>\n",
              "      <td>1240</td>\n",
              "    </tr>\n",
              "    <tr>\n",
              "      <th>Large</th>\n",
              "      <td>1751</td>\n",
              "    </tr>\n",
              "    <tr>\n",
              "      <th>Midsize</th>\n",
              "      <td>2610</td>\n",
              "    </tr>\n",
              "    <tr>\n",
              "      <th>DIRECT_DRIVE</th>\n",
              "      <th>Midsize</th>\n",
              "      <td>2</td>\n",
              "    </tr>\n",
              "    <tr>\n",
              "      <th rowspan=\"3\" valign=\"top\">MANUAL</th>\n",
              "      <th>Compact</th>\n",
              "      <td>1205</td>\n",
              "    </tr>\n",
              "    <tr>\n",
              "      <th>Large</th>\n",
              "      <td>51</td>\n",
              "    </tr>\n",
              "    <tr>\n",
              "      <th>Midsize</th>\n",
              "      <td>288</td>\n",
              "    </tr>\n",
              "    <tr>\n",
              "      <th>UNKNOWN</th>\n",
              "      <th>Midsize</th>\n",
              "      <td>3</td>\n",
              "    </tr>\n",
              "  </tbody>\n",
              "</table>\n",
              "</div>"
            ],
            "text/plain": [
              "col_0                          Transmission Type\n",
              "col_1                               Vehicle_Size\n",
              "Transmission_Type Vehicle_Size                  \n",
              "AUTOMATED_MANUAL  Compact                    361\n",
              "                  Large                       37\n",
              "                  Midsize                    140\n",
              "AUTOMATIC         Compact                   1240\n",
              "                  Large                     1751\n",
              "                  Midsize                   2610\n",
              "DIRECT_DRIVE      Midsize                      2\n",
              "MANUAL            Compact                   1205\n",
              "                  Large                       51\n",
              "                  Midsize                    288\n",
              "UNKNOWN           Midsize                      3"
            ]
          },
          "metadata": {
            "tags": []
          },
          "execution_count": 17
        }
      ]
    },
    {
      "cell_type": "markdown",
      "metadata": {
        "id": "S3zISrwXXDCK"
      },
      "source": [
        "**Question 8**\r\n",
        "\r\n",
        "The column 'Market Category' is a multi-valued feature in the form of strings separated by comma(,). Process the column \r\n",
        "into a separate dataframe by spliting at comma(,) and present as ANY form of graph or plot to show visually (count of cars vs market category name)\r\n",
        "(Example : You can use bar graph)\r\n"
      ]
    },
    {
      "cell_type": "code",
      "metadata": {
        "id": "d3JS5410Y3Cm"
      },
      "source": [
        "temp = pd.DataFrame(cars.Market_Category.str.split(',').tolist(),index=cars.Brand).stack()\r\n",
        "temp = temp.reset_index([0,\"Brand\"])\r\n",
        "temp.columns = [\"Brand\" ,\"Category\"]"
      ],
      "execution_count": 18,
      "outputs": []
    },
    {
      "cell_type": "code",
      "metadata": {
        "id": "NTVNUiLBZqKa"
      },
      "source": [
        "count_Items = temp.groupby(\"Category\").count()"
      ],
      "execution_count": 19,
      "outputs": []
    },
    {
      "cell_type": "code",
      "metadata": {
        "colab": {
          "base_uri": "https://localhost:8080/",
          "height": 376
        },
        "id": "WdgZdokcavis",
        "outputId": "26df4129-aa91-4100-9771-f2464b769acc"
      },
      "source": [
        "count_Items.plot.bar()"
      ],
      "execution_count": 20,
      "outputs": [
        {
          "output_type": "execute_result",
          "data": {
            "text/plain": [
              "<matplotlib.axes._subplots.AxesSubplot at 0x7f684d741c90>"
            ]
          },
          "metadata": {
            "tags": []
          },
          "execution_count": 20
        },
        {
          "output_type": "display_data",
          "data": {
            "image/png": "[encoded data removed]",
            "text/plain": [
              "<Figure size 432x288 with 1 Axes>"
            ]
          },
          "metadata": {
            "tags": [],
            "needs_background": "light"
          }
        }
      ]
    },
    {
      "cell_type": "markdown",
      "metadata": {
        "id": "Po0s7dPwbXJt"
      },
      "source": [
        "**Question 9**\r\n",
        "\r\n",
        "Make a separate dataframe with the column 'Transmission Type' alone. Remove the UNKNOWN values. Make a Pie chart.\r\n"
      ]
    },
    {
      "cell_type": "code",
      "metadata": {
        "colab": {
          "base_uri": "https://localhost:8080/",
          "height": 265
        },
        "id": "D7XSY4cdbazb",
        "outputId": "53e72921-d1aa-44f0-8c48-6699e8e02b4a"
      },
      "source": [
        "temp2 = pd.DataFrame(cars.Transmission_Type)\r\n",
        "temp2 = temp2[temp2.Transmission_Type != 'UNKNOWN']\r\n",
        "x = temp2.Transmission_Type.value_counts()\r\n",
        "x.plot.pie()"
      ],
      "execution_count": 21,
      "outputs": [
        {
          "output_type": "execute_result",
          "data": {
            "text/plain": [
              "<matplotlib.axes._subplots.AxesSubplot at 0x7f684d5dd6d0>"
            ]
          },
          "metadata": {
            "tags": []
          },
          "execution_count": 21
        },
        {
          "output_type": "display_data",
          "data": {
            "image/png": "[encoded data removed]",
            "text/plain": [
              "<Figure size 432x288 with 1 Axes>"
            ]
          },
          "metadata": {
            "tags": []
          }
        }
      ]
    },
    {
      "cell_type": "markdown",
      "metadata": {
        "id": "xpUl30BJdiOp"
      },
      "source": [
        "**Question 10**\r\n",
        "Make a bar graph showing the count of cars sold by top 5 brands of the year 2000"
      ]
    },
    {
      "cell_type": "code",
      "metadata": {
        "colab": {
          "base_uri": "https://localhost:8080/",
          "height": 323
        },
        "id": "ofpQraANdh31",
        "outputId": "1a043d60-432a-4179-ba5c-0e3cb8df7114"
      },
      "source": [
        "brands = cars[cars[\"Year\"]==2000].groupby(\"Brand\").count()\r\n",
        "brands.drop(brands.columns.difference(['Year']), 1, inplace=True)\r\n",
        "brands.sort_values(\"Year\",ascending=False,inplace=True)\r\n",
        "brands = brands.head()\r\n",
        "brands.plot.bar()"
      ],
      "execution_count": 22,
      "outputs": [
        {
          "output_type": "execute_result",
          "data": {
            "text/plain": [
              "<matplotlib.axes._subplots.AxesSubplot at 0x7f684d579350>"
            ]
          },
          "metadata": {
            "tags": []
          },
          "execution_count": 22
        },
        {
          "output_type": "display_data",
          "data": {
            "image/png": "[encoded data removed]",
            "text/plain": [
              "<Figure size 432x288 with 1 Axes>"
            ]
          },
          "metadata": {
            "tags": [],
            "needs_background": "light"
          }
        }
      ]
    },
    {
      "cell_type": "markdown",
      "metadata": {
        "id": "TSz9qHWvic8y"
      },
      "source": [
        "#Training the Dataset "
      ]
    },
    {
      "cell_type": "code",
      "metadata": {
        "colab": {
          "base_uri": "https://localhost:8080/",
          "height": 419
        },
        "id": "A3BW5FLUjxV1",
        "outputId": "35ef9fe3-16c3-4fe3-e26f-9e01369761af"
      },
      "source": [
        "y = cars.Price\r\n",
        "X = cars.drop(columns=[\"Price\",'Brand',\t'Model','Engine_Fuel_Type','Transmission_Type','Driven_Wheels','Market_Category','Vehicle_Size','Vehicle_Style'])\r\n",
        "X_train, X_test, y_train, y_test = train_test_split(X, y, test_size=0.33, random_state=42)\r\n",
        "X_train"
      ],
      "execution_count": 23,
      "outputs": [
        {
          "output_type": "execute_result",
          "data": {
            "text/html": [
              "<div>\n",
              "<style scoped>\n",
              "    .dataframe tbody tr th:only-of-type {\n",
              "        vertical-align: middle;\n",
              "    }\n",
              "\n",
              "    .dataframe tbody tr th {\n",
              "        vertical-align: top;\n",
              "    }\n",
              "\n",
              "    .dataframe thead th {\n",
              "        text-align: right;\n",
              "    }\n",
              "</style>\n",
              "<table border=\"1\" class=\"dataframe\">\n",
              "  <thead>\n",
              "    <tr style=\"text-align: right;\">\n",
              "      <th></th>\n",
              "      <th>Year</th>\n",
              "      <th>Engine_HP</th>\n",
              "      <th>Engine_Cylinders</th>\n",
              "      <th>Number_of_Doors</th>\n",
              "      <th>Popularity</th>\n",
              "      <th>HIGHWAY_miles_per_litre</th>\n",
              "      <th>city_miles_per_litre</th>\n",
              "    </tr>\n",
              "  </thead>\n",
              "  <tbody>\n",
              "    <tr>\n",
              "      <th>6625</th>\n",
              "      <td>2017</td>\n",
              "      <td>560.0</td>\n",
              "      <td>8.0</td>\n",
              "      <td>2.0</td>\n",
              "      <td>3916</td>\n",
              "      <td>22</td>\n",
              "      <td>15</td>\n",
              "    </tr>\n",
              "    <tr>\n",
              "      <th>11169</th>\n",
              "      <td>2016</td>\n",
              "      <td>430.0</td>\n",
              "      <td>8.0</td>\n",
              "      <td>2.0</td>\n",
              "      <td>259</td>\n",
              "      <td>21</td>\n",
              "      <td>14</td>\n",
              "    </tr>\n",
              "    <tr>\n",
              "      <th>8410</th>\n",
              "      <td>2015</td>\n",
              "      <td>306.0</td>\n",
              "      <td>6.0</td>\n",
              "      <td>2.0</td>\n",
              "      <td>454</td>\n",
              "      <td>26</td>\n",
              "      <td>19</td>\n",
              "    </tr>\n",
              "    <tr>\n",
              "      <th>7011</th>\n",
              "      <td>2004</td>\n",
              "      <td>138.0</td>\n",
              "      <td>4.0</td>\n",
              "      <td>2.0</td>\n",
              "      <td>2031</td>\n",
              "      <td>29</td>\n",
              "      <td>23</td>\n",
              "    </tr>\n",
              "    <tr>\n",
              "      <th>1460</th>\n",
              "      <td>2009</td>\n",
              "      <td>500.0</td>\n",
              "      <td>8.0</td>\n",
              "      <td>4.0</td>\n",
              "      <td>520</td>\n",
              "      <td>14</td>\n",
              "      <td>10</td>\n",
              "    </tr>\n",
              "    <tr>\n",
              "      <th>...</th>\n",
              "      <td>...</td>\n",
              "      <td>...</td>\n",
              "      <td>...</td>\n",
              "      <td>...</td>\n",
              "      <td>...</td>\n",
              "      <td>...</td>\n",
              "      <td>...</td>\n",
              "    </tr>\n",
              "    <tr>\n",
              "      <th>7895</th>\n",
              "      <td>2017</td>\n",
              "      <td>523.0</td>\n",
              "      <td>8.0</td>\n",
              "      <td>4.0</td>\n",
              "      <td>238</td>\n",
              "      <td>22</td>\n",
              "      <td>15</td>\n",
              "    </tr>\n",
              "    <tr>\n",
              "      <th>8267</th>\n",
              "      <td>2017</td>\n",
              "      <td>240.0</td>\n",
              "      <td>4.0</td>\n",
              "      <td>2.0</td>\n",
              "      <td>258</td>\n",
              "      <td>28</td>\n",
              "      <td>20</td>\n",
              "    </tr>\n",
              "    <tr>\n",
              "      <th>1035</th>\n",
              "      <td>2016</td>\n",
              "      <td>170.0</td>\n",
              "      <td>4.0</td>\n",
              "      <td>2.0</td>\n",
              "      <td>3105</td>\n",
              "      <td>35</td>\n",
              "      <td>24</td>\n",
              "    </tr>\n",
              "    <tr>\n",
              "      <th>11827</th>\n",
              "      <td>2017</td>\n",
              "      <td>106.0</td>\n",
              "      <td>4.0</td>\n",
              "      <td>2.0</td>\n",
              "      <td>2031</td>\n",
              "      <td>36</td>\n",
              "      <td>30</td>\n",
              "    </tr>\n",
              "    <tr>\n",
              "      <th>11337</th>\n",
              "      <td>2016</td>\n",
              "      <td>109.0</td>\n",
              "      <td>4.0</td>\n",
              "      <td>4.0</td>\n",
              "      <td>2009</td>\n",
              "      <td>40</td>\n",
              "      <td>31</td>\n",
              "    </tr>\n",
              "  </tbody>\n",
              "</table>\n",
              "<p>5150 rows × 7 columns</p>\n",
              "</div>"
            ],
            "text/plain": [
              "       Year  Engine_HP  ...  HIGHWAY_miles_per_litre  city_miles_per_litre\n",
              "6625   2017      560.0  ...                       22                    15\n",
              "11169  2016      430.0  ...                       21                    14\n",
              "8410   2015      306.0  ...                       26                    19\n",
              "7011   2004      138.0  ...                       29                    23\n",
              "1460   2009      500.0  ...                       14                    10\n",
              "...     ...        ...  ...                      ...                   ...\n",
              "7895   2017      523.0  ...                       22                    15\n",
              "8267   2017      240.0  ...                       28                    20\n",
              "1035   2016      170.0  ...                       35                    24\n",
              "11827  2017      106.0  ...                       36                    30\n",
              "11337  2016      109.0  ...                       40                    31\n",
              "\n",
              "[5150 rows x 7 columns]"
            ]
          },
          "metadata": {
            "tags": []
          },
          "execution_count": 23
        }
      ]
    },
    {
      "cell_type": "code",
      "metadata": {
        "id": "U6CEVh7dkViQ"
      },
      "source": [
        "model = LinearRegression()"
      ],
      "execution_count": 24,
      "outputs": []
    },
    {
      "cell_type": "code",
      "metadata": {
        "id": "0kb6pEKWlGWn"
      },
      "source": [
        "model = model.fit(X_train,y_train)"
      ],
      "execution_count": 25,
      "outputs": []
    },
    {
      "cell_type": "markdown",
      "metadata": {
        "id": "syzirLR7nYBC"
      },
      "source": [
        "# Accuracy Score"
      ]
    },
    {
      "cell_type": "code",
      "metadata": {
        "colab": {
          "base_uri": "https://localhost:8080/"
        },
        "id": "dCyfBtTvn01z",
        "outputId": "fef963c4-8ad5-46f3-a855-630cbc892728"
      },
      "source": [
        "accuracy = model.score(X_test,y_test)\r\n",
        "print(accuracy*100,'%')"
      ],
      "execution_count": 26,
      "outputs": [
        {
          "output_type": "stream",
          "text": [
            "51.89273210888341 %\n"
          ],
          "name": "stdout"
        }
      ]
    }
  ]
}